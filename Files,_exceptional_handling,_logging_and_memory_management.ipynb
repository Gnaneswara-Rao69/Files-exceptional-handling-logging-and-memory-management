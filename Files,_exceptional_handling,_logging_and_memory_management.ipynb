{
  "nbformat": 4,
  "nbformat_minor": 0,
  "metadata": {
    "colab": {
      "provenance": []
    },
    "kernelspec": {
      "name": "python3",
      "display_name": "Python 3"
    },
    "language_info": {
      "name": "python"
    }
  },
  "cells": [
    {
      "cell_type": "markdown",
      "source": [
        "#Files, exceptional handling, logging and memory management"
      ],
      "metadata": {
        "id": "OGm53joVVbBb"
      }
    },
    {
      "cell_type": "markdown",
      "source": [
        "1.  How can you open a file for writing in Python and write a string to it?"
      ],
      "metadata": {
        "id": "8G6c68dtVmu_"
      }
    },
    {
      "cell_type": "code",
      "source": [
        "#Here's an example:\n",
        "\n",
        "with open('example.txt', 'w') as file:\n",
        "    file.write('Hello, world!')\n",
        "#Here's an example with error handling:\n",
        "\n",
        "try:\n",
        "    with open('example.txt', 'w') as file:\n",
        "        file.write('Hello, world!')\n",
        "except IOError as e:\n",
        "    print(f\"Error writing to file: {e}\")\n",
        "\n"
      ],
      "metadata": {
        "id": "YbB_Wr8hWEzP"
      },
      "execution_count": null,
      "outputs": []
    },
    {
      "cell_type": "markdown",
      "source": [
        "2. Write a Python program to read the contents of a file and print each line."
      ],
      "metadata": {
        "id": "QdOcTW0IWTHv"
      }
    },
    {
      "cell_type": "code",
      "source": [
        "#Here's a Python program that reads the contents of a file and prints each line:\n",
        "\n",
        "def read_file(filename):\n",
        "    try:\n",
        "        with open(filename, 'r') as file:\n",
        "            for line in file:\n",
        "                print(line.strip())\n",
        "    except FileNotFoundError:\n",
        "        print(f\"File '{filename}' not found.\")\n",
        "    except Exception as e:\n",
        "        print(f\"An error occurred: {e}\")\n"
      ],
      "metadata": {
        "id": "NFT-hKdPWeVP"
      },
      "execution_count": null,
      "outputs": []
    },
    {
      "cell_type": "markdown",
      "source": [
        "3. How would you handle a case where the file doesn't exist while trying to open it for reading?"
      ],
      "metadata": {
        "id": "EqQ-U4ndWmGS"
      }
    },
    {
      "cell_type": "code",
      "source": [
        "#Here's an example:\n",
        "\n",
        "try:\n",
        "    with open('example.txt', 'r') as file:\n",
        "        content = file.read()\n",
        "        print(content)\n",
        "except FileNotFoundError:\n",
        "    print(\"The file does not exist.\")\n",
        "except Exception as e:\n",
        "    print(f\"An error occurred: {e}\")\n"
      ],
      "metadata": {
        "id": "-RbIDiEfW4BY"
      },
      "execution_count": null,
      "outputs": []
    },
    {
      "cell_type": "markdown",
      "source": [
        "4. Write a Python script that reads from one file and writes its content to another file."
      ],
      "metadata": {
        "id": "cSMbcmZqXAeS"
      }
    },
    {
      "cell_type": "code",
      "source": [
        "#Here's a Python script that reads from one file and writes its content to another file:\n",
        "\n",
        "def copy_file(source_filename, destination_filename):\n",
        "    try:\n",
        "        with open(source_filename, 'r') as source_file:\n",
        "            content = source_file.read()\n",
        "        with open(destination_filename, 'w') as destination_file:\n",
        "            destination_file.write(content)\n",
        "        print(f\"File copied successfully from {source_filename} to {destination_filename}.\")\n",
        "    except FileNotFoundError:\n",
        "        print(f\"Source file '{source_filename}' not found.\")\n",
        "    except Exception as e:\n",
        "        print(f\"An error occurred: {e}\")\n",
        "\n",
        "# Example usage\n",
        "source_filename = 'source.txt'\n",
        "destination_filename = 'destination.txt'\n",
        "copy_file(source_filename, destination_filename)\n"
      ],
      "metadata": {
        "id": "HeCJWtTOXQ3Z"
      },
      "execution_count": null,
      "outputs": []
    },
    {
      "cell_type": "markdown",
      "source": [
        "5. How would you catch and handle division by zero error in Python?"
      ],
      "metadata": {
        "id": "UG1MM7HzXTYp"
      }
    },
    {
      "cell_type": "code",
      "source": [
        "#Here's an example:\n",
        "\n",
        "def divide(a, b):\n",
        "    try:\n",
        "        result = a / b\n",
        "        print(f\"{a} divided by {b} is {result}.\")\n",
        "    except ZeroDivisionError:\n",
        "        print(\"Error: Division by zero is not allowed.\")\n",
        "    except Exception as e:\n",
        "        print(f\"An unexpected error occurred: {e}\")\n",
        "\n"
      ],
      "metadata": {
        "id": "rsFeZnclXZr9"
      },
      "execution_count": null,
      "outputs": []
    },
    {
      "cell_type": "markdown",
      "source": [
        "6. Write a Python program that logs an error message to a log file when a division by zero exception occurs"
      ],
      "metadata": {
        "id": "Qw7tMikdXiT9"
      }
    },
    {
      "cell_type": "code",
      "source": [
        "#Here's a Python program that logs an error message to a log file when a division by zero exception occurs:\n",
        "\n",
        "import logging\n",
        "\n",
        "# Configure logging\n",
        "logging.basicConfig(filename='error.log', level=logging.ERROR)\n",
        "\n",
        "def divide(a, b):\n",
        "    try:\n",
        "        result = a / b\n",
        "        print(f\"{a} divided by {b} is {result}.\")\n",
        "    except ZeroDivisionError:\n",
        "        logging.error(\"Division by zero error occurred.\")\n",
        "        print(\"Error: Division by zero is not allowed.\")\n",
        "    except Exception as e:\n",
        "        logging.error(f\"An unexpected error occurred: {e}\")\n",
        "        print(f\"An unexpected error occurred: {e}\")\n",
        "\n"
      ],
      "metadata": {
        "id": "JANeupvYXyKf"
      },
      "execution_count": null,
      "outputs": []
    },
    {
      "cell_type": "markdown",
      "source": [
        "7. How do you log information at different levels (INFO, ERROR, WARNING) in Python using the logging module?"
      ],
      "metadata": {
        "id": "5PKDRy_GX5lO"
      }
    },
    {
      "cell_type": "code",
      "source": [
        "import logging\n",
        "\n",
        "# Configure logging\n",
        "logging.basicConfig(level=logging.INFO)\n",
        "\n",
        "# Log information at different levels\n",
        "logging.debug(\"This is a debug message.\")  # Not logged by default\n",
        "logging.info(\"This is an info message.\")\n",
        "logging.warning(\"This is a warning message.\")\n",
        "logging.error(\"This is an error message.\")\n",
        "logging.critical(\"This is a critical message.\")\n"
      ],
      "metadata": {
        "id": "H5-ZZO9FYCmv"
      },
      "execution_count": null,
      "outputs": []
    },
    {
      "cell_type": "markdown",
      "source": [
        "8. Write a program to handle a file opening error using exception handling."
      ],
      "metadata": {
        "id": "KMAN88cMYNkZ"
      }
    },
    {
      "cell_type": "code",
      "source": [
        "#Here's a program that handles a file opening error using exception handling:\n",
        "\n",
        "def open_file(filename):\n",
        "    try:\n",
        "        with open(filename, 'r') as file:\n",
        "            content = file.read()\n",
        "            print(content)\n",
        "    except FileNotFoundError:\n",
        "        print(f\"Error: The file '{filename}' was not found.\")\n",
        "    except PermissionError:\n",
        "        print(f\"Error: Permission denied to access the file '{filename}'.\")\n",
        "    except Exception as e:\n",
        "        print(f\"An unexpected error occurred: {e}\")\n"
      ],
      "metadata": {
        "id": "6F2lzm5HYVBj"
      },
      "execution_count": null,
      "outputs": []
    },
    {
      "cell_type": "markdown",
      "source": [
        "9. How can you read a file line by line and store its content in a list in Python?"
      ],
      "metadata": {
        "id": "NJ6GIg37Ybzx"
      }
    },
    {
      "cell_type": "code",
      "source": [
        "def read_file_lines(filename):\n",
        "    try:\n",
        "        with open(filename, 'r') as file:\n",
        "            lines = [line.strip() for line in file]\n",
        "        return lines\n",
        "    except FileNotFoundError:\n",
        "        print(f\"Error: The file '{filename}' was not found.\")\n",
        "        return []\n",
        "    except Exception as e:\n",
        "        print(f\"An unexpected error occurred: {e}\")\n",
        "        return []\n",
        "\n",
        "# Example usage\n",
        "filename = 'example.txt'\n",
        "lines = read_file_lines(filename)\n",
        "print(lines)\n",
        "\n"
      ],
      "metadata": {
        "id": "f_pquugqYqnD"
      },
      "execution_count": null,
      "outputs": []
    },
    {
      "cell_type": "markdown",
      "source": [
        "10.  How can you append data to an existing file in Python?"
      ],
      "metadata": {
        "id": "rnUrPMVcYz5L"
      }
    },
    {
      "cell_type": "code",
      "source": [
        "#Here's an example:\n",
        "\n",
        "def append_to_file(filename, data):\n",
        "    try:\n",
        "        with open(filename, 'a') as file:\n",
        "            file.write(data + '\\n')\n",
        "        print(f\"Data appended to {filename} successfully.\")\n",
        "    except Exception as e:\n",
        "        print(f\"An error occurred: {e}\")\n"
      ],
      "metadata": {
        "id": "fYQyoTm3Y6mj"
      },
      "execution_count": null,
      "outputs": []
    },
    {
      "cell_type": "markdown",
      "source": [
        "11. Write a Python program that uses a try-except block to handle an error when attempting to access a\n",
        "dictionary key that doesn't exist"
      ],
      "metadata": {
        "id": "sA5_dmQKZFAj"
      }
    },
    {
      "cell_type": "code",
      "source": [
        "#Here's a Python program that uses a try-except block to handle an error when attempting to access a dictionary key that doesn't exist:\n",
        "\n",
        "def access_dictionary_key(dictionary, key):\n",
        "    try:\n",
        "        value = dictionary[key]\n",
        "        print(f\"The value for key '{key}' is: {value}\")\n",
        "    except KeyError:\n",
        "        print(f\"Error: The key '{key}' does not exist in the dictionary.\")\n",
        "    except Exception as e:\n",
        "        print(f\"An unexpected error occurred: {e}\")\n",
        "\n"
      ],
      "metadata": {
        "id": "xyPFZRU1ZQ6K"
      },
      "execution_count": null,
      "outputs": []
    },
    {
      "cell_type": "markdown",
      "source": [
        "12. Write a program that demonstrates using multiple except blocks to handle different types of exceptions."
      ],
      "metadata": {
        "id": "4iUoXBkJZhBx"
      }
    },
    {
      "cell_type": "code",
      "source": [
        "#Here's a program that demonstrates using multiple except blocks to handle different types of exceptions:\n",
        "\n",
        "def divide_numbers(a, b):\n",
        "    try:\n",
        "        result = a / b\n",
        "        print(f\"{a} divided by {b} is {result}.\")\n",
        "    except ZeroDivisionError:\n",
        "        print(\"Error: Division by zero is not allowed.\")\n",
        "    except TypeError:\n",
        "        print(\"Error: Both inputs must be numbers.\")\n",
        "    except Exception as e:\n",
        "        print(f\"An unexpected error occurred: {e}\")\n"
      ],
      "metadata": {
        "id": "DZOlboHUZpkh"
      },
      "execution_count": null,
      "outputs": []
    },
    {
      "cell_type": "markdown",
      "source": [
        "13. How would you check if a file exists before attempting to read it in Python?"
      ],
      "metadata": {
        "id": "F9O0cYHrZwDu"
      }
    },
    {
      "cell_type": "code",
      "source": [
        "import os\n",
        "\n",
        "def check_file_exists(filename):\n",
        "    if os.path.exists(filename):\n",
        "        print(f\"The file '{filename}' exists.\")\n",
        "        # Attempt to read the file\n",
        "        try:\n",
        "            with open(filename, 'r') as file:\n",
        "                content = file.read()\n",
        "                print(content)\n",
        "        except Exception as e:\n",
        "            print(f\"An error occurred: {e}\")\n",
        "    else:\n",
        "        print(f\"The file '{filename}' does not exist.\")\n",
        "\n"
      ],
      "metadata": {
        "id": "UacBa5GoZ3EB"
      },
      "execution_count": null,
      "outputs": []
    },
    {
      "cell_type": "markdown",
      "source": [
        "14. Write a program that uses the logging module to log both informational and error messages."
      ],
      "metadata": {
        "id": "uM0XnikxaCnL"
      }
    },
    {
      "cell_type": "code",
      "source": [
        "#Here's a program that uses the logging module to log both informational and error messages:\n",
        "\n",
        "import logging\n",
        "\n",
        "# Configure logging\n",
        "logging.basicConfig(level=logging.INFO, format='%(asctime)s - %(levelname)s - %(message)s')\n",
        "\n",
        "def divide_numbers(a, b):\n",
        "    try:\n",
        "        result = a / b\n",
        "        logging.info(f\"{a} divided by {b} is {result}.\")\n",
        "    except ZeroDivisionError:\n",
        "        logging.error(\"Division by zero is not allowed.\")\n",
        "    except Exception as e:\n",
        "        logging.error(f\"An unexpected error occurred: {e}\")\n",
        "\n"
      ],
      "metadata": {
        "id": "CETOY2FjaQv1"
      },
      "execution_count": null,
      "outputs": []
    },
    {
      "cell_type": "markdown",
      "source": [
        "15. Write a Python program that prints the content of a file and handles the case when the file is empty."
      ],
      "metadata": {
        "id": "K3fBQpOYaZL5"
      }
    },
    {
      "cell_type": "code",
      "source": [
        "def print_file_content(filename):\n",
        "    try:\n",
        "        with open(filename, 'r') as file:\n",
        "            content = file.read()\n",
        "            if content.strip() == '':\n",
        "                print(f\"The file '{filename}' is empty.\")\n",
        "            else:\n",
        "                print(content)\n",
        "    except FileNotFoundError:\n",
        "        print(f\"The file '{filename}' does not exist.\")\n",
        "    except Exception as e:\n",
        "        print(f\"An error occurred: {e}\")\n"
      ],
      "metadata": {
        "id": "Q252tXGVajLv"
      },
      "execution_count": null,
      "outputs": []
    },
    {
      "cell_type": "markdown",
      "source": [
        "16.  Demonstrate how to use memory profiling to check the memory usage of a small program."
      ],
      "metadata": {
        "id": "Slat9LkTao5Z"
      }
    },
    {
      "cell_type": "code",
      "source": [
        "#Here's an example of how to use memory profiling to check the memory usage of a small program:\n",
        "\n",
        "import tracemalloc\n",
        "\n",
        "def memory_intensive_function():\n",
        "    large_list = [i for i in range(1000000)]\n",
        "    return large_list\n",
        "\n",
        "def main():\n",
        "    tracemalloc.start()\n",
        "    large_list = memory_intensive_function()\n",
        "    current, peak = tracemalloc.get_traced_memory()\n",
        "    print(f\"Current memory usage: {current / 1024:.2f} KB\")\n",
        "    print(f\"Peak memory usage: {peak / 1024:.2f} KB\")\n",
        "    tracemalloc.stop()\n",
        "\n",
        "if __name__ == \"__main__\":\n",
        "    main()\n",
        "\n"
      ],
      "metadata": {
        "id": "YXVzTc5ha0Xf"
      },
      "execution_count": null,
      "outputs": []
    },
    {
      "cell_type": "markdown",
      "source": [
        "17. Write a Python program to create and write a list of numbers to a file, one number per line."
      ],
      "metadata": {
        "id": "JkDQnOuca8Fv"
      }
    },
    {
      "cell_type": "code",
      "source": [
        "#Here's a Python program that creates and writes a list of numbers to a file, one number per line:\n",
        "\n",
        "def write_numbers_to_file(filename, numbers):\n",
        "    try:\n",
        "        with open(filename, 'w') as file:\n",
        "            for number in numbers:\n",
        "                file.write(str(number) + '\\n')\n",
        "        print(f\"Numbers written to {filename} successfully.\")\n",
        "    except Exception as e:\n",
        "        print(f\"An error occurred: {e}\")\n",
        "\n"
      ],
      "metadata": {
        "id": "lSNTDLIFbL7I"
      },
      "execution_count": null,
      "outputs": []
    },
    {
      "cell_type": "markdown",
      "source": [
        "18. How would you implement a basic logging setup that logs to a file with rotation after 1MB?"
      ],
      "metadata": {
        "id": "9OKqRMOHba5Z"
      }
    },
    {
      "cell_type": "code",
      "source": [
        "import logging\n",
        "from logging.handlers import RotatingFileHandler\n",
        "\n",
        "# Create a logger\n",
        "logger = logging.getLogger(__name__)\n",
        "logger.setLevel(logging.INFO)\n",
        "\n",
        "# Create a rotating file handler\n",
        "handler = RotatingFileHandler('app.log', maxBytes=1024*1024, backupCount=5)\n",
        "handler.setLevel(logging.INFO)\n",
        "\n",
        "# Create a formatter and add it to the handler\n",
        "formatter = logging.Formatter('%(asctime)s - %(name)s - %(levelname)s - %(message)s')\n",
        "handler.setFormatter(formatter)\n",
        "\n",
        "# Add the handler to the logger\n",
        "logger.addHandler(handler)\n"
      ],
      "metadata": {
        "id": "KJgAH4q0bk9B"
      },
      "execution_count": null,
      "outputs": []
    },
    {
      "cell_type": "markdown",
      "source": [
        "19. Write a program that handles both IndexError and KeyError using a try-except block."
      ],
      "metadata": {
        "id": "Wo_KRm73bzFo"
      }
    },
    {
      "cell_type": "code",
      "source": [
        "#Here's a program that handles both IndexError and KeyError using a try-except block:\n",
        "\n",
        "def access_list_and_dict(my_list, index, my_dict, key):\n",
        "    try:\n",
        "        list_value = my_list[index]\n",
        "        dict_value = my_dict[key]\n",
        "        print(f\"List value at index {index}: {list_value}\")\n",
        "        print(f\"Dictionary value for key '{key}': {dict_value}\")\n",
        "    except IndexError:\n",
        "        print(f\"Error: Index {index} is out of range for the list.\")\n",
        "    except KeyError:\n",
        "        print(f\"Error: Key '{key}' does not exist in the dictionary.\")\n",
        "    except Exception as e:\n",
        "        print(f\"An unexpected error occurred: {e}\")\n",
        "\n"
      ],
      "metadata": {
        "id": "suGu0PXbcBDD"
      },
      "execution_count": null,
      "outputs": []
    },
    {
      "cell_type": "markdown",
      "source": [
        "20. How would you open a file and read its contents using a context manager in Python?"
      ],
      "metadata": {
        "id": "dScJ6mRzcGw9"
      }
    },
    {
      "cell_type": "code",
      "source": [
        "def read_file(filename):\n",
        "    try:\n",
        "        with open(filename, 'r') as file:\n",
        "            content = file.read()\n",
        "            print(content)\n",
        "    except FileNotFoundError:\n",
        "        print(f\"The file '{filename}' does not exist.\")\n",
        "    except Exception as e:\n",
        "        print(f\"An error occurred: {e}\")\n"
      ],
      "metadata": {
        "id": "NlBQPo-_cQU5"
      },
      "execution_count": null,
      "outputs": []
    },
    {
      "cell_type": "markdown",
      "source": [
        "21. Write a Python program that reads a file and prints the number of occurrences of a specific word.\n"
      ],
      "metadata": {
        "id": "G0_5Fz2acZr9"
      }
    },
    {
      "cell_type": "code",
      "source": [
        "#Here's a Python program that reads a file and prints the number of occurrences of a specific word:\n",
        "\n",
        "def count_word_occurrences(filename, word):\n",
        "    try:\n",
        "        with open(filename, 'r') as file:\n",
        "            content = file.read().lower()\n",
        "            word_count = content.count(word.lower())\n",
        "            print(f\"The word '{word}' occurs {word_count} times in the file.\")\n",
        "    except FileNotFoundError:\n",
        "        print(f\"The file '{filename}' does not exist.\")\n",
        "    except Exception as e:\n",
        "        print(f\"An error occurred: {e}\")\n",
        "\n"
      ],
      "metadata": {
        "id": "QbLbRJT5cfa5"
      },
      "execution_count": null,
      "outputs": []
    },
    {
      "cell_type": "markdown",
      "source": [
        "22.  How can you check if a file is empty before attempting to read its contents?"
      ],
      "metadata": {
        "id": "wi00zEHycqhX"
      }
    },
    {
      "cell_type": "code",
      "source": [
        "#*Method 1: Using os.path.getsize()*\n",
        "\n",
        "import os\n",
        "\n",
        "def is_file_empty(filename):\n",
        "    return os.path.getsize(filename) == 0\n",
        "\n",
        "# Example usage\n",
        "filename = 'example.txt'\n",
        "if is_file_empty(filename):\n",
        "    print(f\"The file '{filename}' is empty.\")\n",
        "else:\n",
        "    print(f\"The file '{filename}' is not empty.\")\n",
        "\n",
        "\n",
        "#*Method 2: Using os.stat()*\n",
        "\n",
        "import os\n",
        "\n",
        "def is_file_empty(filename):\n",
        "    return os.stat(filename).st_size == 0\n",
        "\n",
        "# Example usage\n",
        "filename = 'example.txt'\n",
        "if is_file_empty(filename):\n",
        "    print(f\"The file '{filename}' is empty.\")\n",
        "else:\n",
        "    print(f\"The file '{filename}' is not empty.\")\n",
        "\n",
        "\n",
        "#Method 3: Reading the File\n",
        "\n",
        "def is_file_empty(filename):\n",
        "    try:\n",
        "        with open(filename, 'r') as file:\n",
        "            return not file.read().strip()\n",
        "    except FileNotFoundError:\n",
        "        print(f\"The file '{filename}' does not exist.\")\n",
        "    except Exception as e:\n",
        "        print(f\"An error occurred: {e}\")\n",
        "\n"
      ],
      "metadata": {
        "id": "fs3Q9g8IczIo"
      },
      "execution_count": null,
      "outputs": []
    },
    {
      "cell_type": "markdown",
      "source": [
        "23. Write a Python program that writes to a log file when an error occurs during file handling."
      ],
      "metadata": {
        "id": "uhyLXOpMdMof"
      }
    },
    {
      "cell_type": "code",
      "source": [
        "#Here's a Python program that writes to a log file when an error occurs during file handling:\n",
        "\n",
        "import logging\n",
        "\n",
        "# Configure logging\n",
        "logging.basicConfig(filename='error.log', level=logging.ERROR, format='%(asctime)s - %(levelname)s - %(message)s')\n",
        "\n",
        "def handle_file(filename):\n",
        "    try:\n",
        "        with open(filename, 'r') as file:\n",
        "            content = file.read()\n",
        "            print(content)\n",
        "    except FileNotFoundError:\n",
        "        logging.error(f\"The file '{filename}' does not exist.\")\n",
        "    except PermissionError:\n",
        "        logging.error(f\"Permission denied to access the file '{filename}'.\")\n",
        "    except Exception as e:\n",
        "        logging.error(f\"An error occurred while handling the file '{filename}': {e}\")\n",
        "\n"
      ],
      "metadata": {
        "id": "ZU_DHwxSdgh7"
      },
      "execution_count": null,
      "outputs": []
    },
    {
      "cell_type": "code",
      "execution_count": null,
      "metadata": {
        "id": "U6IZdTz0U968"
      },
      "outputs": [],
      "source": []
    }
  ]
}